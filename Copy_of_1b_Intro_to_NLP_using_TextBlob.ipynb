{
  "cells": [
    {
      "cell_type": "markdown",
      "metadata": {
        "id": "view-in-github",
        "colab_type": "text"
      },
      "source": [
        "<a href=\"https://colab.research.google.com/github/jolonia/NLP/blob/main/Copy_of_1b_Intro_to_NLP_using_TextBlob.ipynb\" target=\"_parent\"><img src=\"https://colab.research.google.com/assets/colab-badge.svg\" alt=\"Open In Colab\"/></a>"
      ]
    },
    {
      "cell_type": "markdown",
      "metadata": {
        "id": "TzrddZIGO_5f"
      },
      "source": [
        "# TextBlob\n",
        "TextBlob is a powerful NLP Python library. It can be used to perform a variety of NLP tasks. Documentation for TextBlob can be found [here](https://textblob.readthedocs.io/en/dev/)."
      ]
    },
    {
      "cell_type": "code",
      "execution_count": null,
      "metadata": {
        "id": "KKRtlgDwO4UQ"
      },
      "outputs": [],
      "source": [
        "%%capture\n",
        "# Install textblob\n",
        "!pip install -U textblob\n"
      ]
    },
    {
      "cell_type": "code",
      "execution_count": null,
      "metadata": {
        "id": "irDHosnRN4tN"
      },
      "outputs": [],
      "source": [
        "from textblob import TextBlob\n"
      ]
    },
    {
      "cell_type": "code",
      "source": [],
      "metadata": {
        "id": "HY3LDOkHypUA"
      },
      "execution_count": null,
      "outputs": []
    },
    {
      "cell_type": "markdown",
      "metadata": {
        "id": "fpVbWI_VPD43"
      },
      "source": [
        "## Corpora"
      ]
    },
    {
      "cell_type": "code",
      "execution_count": null,
      "metadata": {
        "id": "-GFxnAuHer46"
      },
      "outputs": [],
      "source": [
        "%%capture\n",
        "# Download corpora\n",
        "!python -m textblob.download_corpora\n"
      ]
    },
    {
      "cell_type": "code",
      "execution_count": null,
      "metadata": {
        "colab": {
          "base_uri": "https://localhost:8080/"
        },
        "id": "thgn7IFVx-L3",
        "outputId": "ead03aaa-5e26-4d3d-fa2f-a577f23d11f6"
      },
      "outputs": [
        {
          "output_type": "stream",
          "name": "stdout",
          "text": [
            "/usr/local/bin/python\n"
          ]
        }
      ],
      "source": [
        "!which python"
      ]
    },
    {
      "cell_type": "code",
      "execution_count": null,
      "metadata": {
        "colab": {
          "base_uri": "https://localhost:8080/"
        },
        "id": "Iac8TfgsLzJh",
        "outputId": "7de3617f-20ce-4c5c-c9be-d97c59116e7a"
      },
      "outputs": [
        {
          "output_type": "stream",
          "name": "stderr",
          "text": [
            "[nltk_data] Downloading package omw-1.4 to /root/nltk_data...\n"
          ]
        },
        {
          "output_type": "execute_result",
          "data": {
            "text/plain": [
              "True"
            ]
          },
          "metadata": {},
          "execution_count": 5
        }
      ],
      "source": [
        "import nltk\n",
        "nltk.download('omw-1.4')\n"
      ]
    },
    {
      "cell_type": "markdown",
      "metadata": {
        "id": "OqDunLivfE76"
      },
      "source": [
        "## TextBlobs"
      ]
    },
    {
      "cell_type": "code",
      "execution_count": null,
      "metadata": {
        "id": "fYCy3sfbfGY2"
      },
      "outputs": [],
      "source": [
        "my_blob = TextBlob(\"There is more than one way to skin a cat.\")\n"
      ]
    },
    {
      "cell_type": "code",
      "execution_count": null,
      "metadata": {
        "colab": {
          "base_uri": "https://localhost:8080/"
        },
        "id": "Q1fcXX8mUitv",
        "outputId": "837e6f7d-24d5-46a2-d621-d9385708f54f"
      },
      "outputs": [
        {
          "output_type": "execute_result",
          "data": {
            "text/plain": [
              "TextBlob(\"There is more than one way to skin a cat.\")"
            ]
          },
          "metadata": {},
          "execution_count": 7
        }
      ],
      "source": [
        "my_blob\n"
      ]
    },
    {
      "cell_type": "markdown",
      "metadata": {
        "id": "6ATirf1IfOHB"
      },
      "source": [
        "## Tagging Parts of Speech\n",
        "A list of the different parts of speech tags can be found [here](https://www.geeksforgeeks.org/python-part-of-speech-tagging-using-textblob/).\n",
        "\n",
        "code | meaning | example\n",
        "--- | --- | ---\n",
        "CC | coordinating conjunction |\n",
        "CD | cardinal digit |\n",
        "DT | determiner |\n",
        "EX | existential there | (like: “there is” … think of it like “there exists”)\n",
        "FW | foreign word |\n",
        "IN | preposition/subordinating conjunction |\n",
        "JJ | adjective | ‘big’\n",
        "JJR | adjective, comparative | ‘bigger’\n",
        "JJS | adjective, superlative | ‘biggest’\n",
        "LS | list marker | 1)\n",
        "MD | modal could, | will\n",
        "NN | noun, singular | ‘desk’\n",
        "NNS | noun plural | ‘desks’\n",
        "NNP | proper noun, singular | ‘Harrison’\n",
        "NNPS | proper noun, plural | ‘Americans’\n",
        "PDT | predeterminer | ‘all the kids’\n",
        "POS | possessive ending | parent‘s\n",
        "PRP | personal pronoun | I, he, she\n",
        "PRP\\$ | possessive pronoun | my, his, hers\n",
        "RB | adverb | very, silently,\n",
        "RBR | adverb, comparative | better\n",
        "RBS | adverb, superlative | best\n",
        "RP | particle | give up\n",
        "TO | to go | ‘to‘ the store.\n",
        "UH | interjection | errrrrrrrm\n",
        "VB | verb, base form | take\n",
        "VBD | verb, past tense | took\n",
        "VBG | verb, gerund/present participle | taking\n",
        "VBN | verb, past participle | taken\n",
        "VBP | verb, sing. present, non-3d | take\n",
        "VBZ | verb, 3rd person sing. present | takes\n",
        "WDT | wh-determiner | which\n",
        "WP | wh-pronoun | who, what\n",
        "WP$ | possessive wh-pronoun | whose\n",
        "WRB | wh-adverb | where, when\n",
        "\n",
        "\n",
        "\n",
        "\n"
      ]
    },
    {
      "cell_type": "code",
      "execution_count": null,
      "metadata": {
        "id": "OaGDcf9Dx-L6"
      },
      "outputs": [],
      "source": [
        "!python3 -m textblob.download_corpora\n"
      ]
    },
    {
      "cell_type": "code",
      "execution_count": null,
      "metadata": {
        "id": "9vtVoD7AfP06"
      },
      "outputs": [],
      "source": [
        "# Use the .tags attribute to see parts of speech\n",
        "my_blob.tags\n"
      ]
    },
    {
      "cell_type": "markdown",
      "metadata": {
        "id": "pCbQ-_RDgN56"
      },
      "source": [
        "## Sentiment Analysis"
      ]
    },
    {
      "cell_type": "markdown",
      "metadata": {
        "id": "qdBZsTh7gq6b"
      },
      "source": [
        "Sentiment analysis can be used to understand the feeling or emotion tied to the text. The sentiment attribute in TextBlob will return two values:\n",
        "1. The **polarity score** (a float between -1.0 and 1.0). -1 is negative, 1 is positive.\n",
        "2. The **subjectivity** (a float between 0.0 and 1.0). 0 is very objective, while 1 is very subjective."
      ]
    },
    {
      "cell_type": "code",
      "execution_count": null,
      "metadata": {
        "id": "W8mMTPUsgTqD"
      },
      "outputs": [],
      "source": [
        "neg_blob = TextBlob(\"I am so tired. Today was a long, hard day.\")\n",
        "neg_blob.sentiment\n"
      ]
    },
    {
      "cell_type": "code",
      "execution_count": null,
      "metadata": {
        "id": "F5J7WfPygit2"
      },
      "outputs": [],
      "source": [
        "pos_blob = TextBlob(\"Today was a great day. I am so happy.\")\n",
        "pos_blob.sentiment\n"
      ]
    },
    {
      "cell_type": "code",
      "execution_count": null,
      "metadata": {
        "id": "cZam445yhNx1"
      },
      "outputs": [],
      "source": [
        "obj_blob = TextBlob(\"The cat is gray.\")\n",
        "obj_blob.sentiment\n"
      ]
    },
    {
      "cell_type": "code",
      "execution_count": null,
      "metadata": {
        "id": "rH7v7rwhhSNJ"
      },
      "outputs": [],
      "source": [
        "subj_blob = TextBlob(\"The cat is so cute and sweet.\")\n",
        "print(subj_blob.sentiment)\n",
        "print(subj_blob.sentiment.subjectivity) # Just get the subjectivity\n"
      ]
    },
    {
      "cell_type": "markdown",
      "metadata": {
        "id": "8er-hrrJh07M"
      },
      "source": [
        "Sentiment analysis of multiple sentences"
      ]
    },
    {
      "cell_type": "code",
      "execution_count": null,
      "metadata": {
        "id": "HYGpYwhGh4zQ"
      },
      "outputs": [],
      "source": [
        "my_poem = TextBlob(\"Python is a great language to learn. \"\n",
        "               \"You can easily do NLP, it's fab. \"\n",
        "               \"It might take some getting used to. \"\n",
        "               \"But it's definitely more better than Matlab.\")\n"
      ]
    },
    {
      "cell_type": "code",
      "execution_count": null,
      "metadata": {
        "id": "0uP-Uu4rD3Bv"
      },
      "outputs": [],
      "source": [
        "my_poem"
      ]
    },
    {
      "cell_type": "code",
      "execution_count": null,
      "metadata": {
        "id": "iPkNblDYWrQm"
      },
      "outputs": [],
      "source": [
        "my_poem.sentiment\n"
      ]
    },
    {
      "cell_type": "code",
      "execution_count": null,
      "metadata": {
        "id": "zO-qyaXnh9c7"
      },
      "outputs": [],
      "source": [
        "my_poem.sentences\n"
      ]
    },
    {
      "cell_type": "code",
      "execution_count": null,
      "metadata": {
        "id": "2Gg127LDh_iC"
      },
      "outputs": [],
      "source": [
        "for sentence in my_poem.sentences:\n",
        "  print(sentence.sentiment)\n"
      ]
    },
    {
      "cell_type": "markdown",
      "metadata": {
        "id": "NOk3hstOiX66"
      },
      "source": [
        "### Your Turn\n",
        "Create three TextBlobs with the following sentiments:\n",
        "1. Negative, subjective\n",
        "2. Positive, objective\n",
        "3. Neutral\n"
      ]
    },
    {
      "cell_type": "code",
      "execution_count": null,
      "metadata": {
        "id": "tN1XuyM-isCT"
      },
      "outputs": [],
      "source": [
        "# Solution 1\n"
      ]
    },
    {
      "cell_type": "code",
      "execution_count": null,
      "metadata": {
        "id": "p21w7p_5isup"
      },
      "outputs": [],
      "source": [
        "# Solution 2\n"
      ]
    },
    {
      "cell_type": "code",
      "execution_count": null,
      "metadata": {
        "id": "dn17nFVMityS"
      },
      "outputs": [],
      "source": [
        "# Solution 3\n"
      ]
    },
    {
      "cell_type": "markdown",
      "metadata": {
        "id": "_A52ZaAHiySH"
      },
      "source": [
        "## Tokenization\n",
        "Tokenization is the process of splitting long strings of text into small pieces (tokens)."
      ]
    },
    {
      "cell_type": "code",
      "execution_count": null,
      "metadata": {
        "id": "Ol47fV7Pi8wa"
      },
      "outputs": [],
      "source": [
        "my_poem.sentences\n"
      ]
    },
    {
      "cell_type": "code",
      "execution_count": null,
      "metadata": {
        "id": "29gjDcTB0CUA"
      },
      "outputs": [],
      "source": [
        "my_poem.words\n"
      ]
    },
    {
      "cell_type": "code",
      "execution_count": null,
      "metadata": {
        "id": "sRQI7aiuHYSt"
      },
      "outputs": [],
      "source": [
        "sorted(my_poem.word_counts.items(), key = lambda x: x[1], reverse=True)"
      ]
    },
    {
      "cell_type": "markdown",
      "metadata": {
        "id": "UFJiZZje0cDi"
      },
      "source": [
        "## Singular & Plural"
      ]
    },
    {
      "cell_type": "code",
      "execution_count": null,
      "metadata": {
        "id": "Fw2nc2JM1uxj"
      },
      "outputs": [],
      "source": [
        "my_sent = TextBlob(\"The octopi went swimming in the dark ocean waters.\")\n"
      ]
    },
    {
      "cell_type": "code",
      "execution_count": null,
      "metadata": {
        "id": "dm67_ivG0krF"
      },
      "outputs": [],
      "source": [
        "my_sent.words[0]\n"
      ]
    },
    {
      "cell_type": "code",
      "execution_count": null,
      "metadata": {
        "id": "eNfaYo5G2Cf7"
      },
      "outputs": [],
      "source": [
        "# Singularize\n",
        "my_sent.words[-1].singularize()\n"
      ]
    },
    {
      "cell_type": "code",
      "execution_count": null,
      "metadata": {
        "id": "7JQ_v5CDa8SC"
      },
      "outputs": [],
      "source": [
        "my_sent.words[1].singularize()\n"
      ]
    },
    {
      "cell_type": "code",
      "execution_count": null,
      "metadata": {
        "id": "nIquQKOR1NwQ"
      },
      "outputs": [],
      "source": [
        "# Pluralize\n",
        "my_sent.words[-2].pluralize()\n"
      ]
    },
    {
      "cell_type": "code",
      "execution_count": null,
      "metadata": {
        "id": "XJHmr09kIjuW"
      },
      "outputs": [],
      "source": [
        "foo = my_sent.words[-2]\n",
        "foo == foo.singularize()"
      ]
    },
    {
      "cell_type": "markdown",
      "metadata": {
        "id": "BBDNN-o-30yP"
      },
      "source": [
        "## Stemming & Lemmatization"
      ]
    },
    {
      "cell_type": "markdown",
      "metadata": {
        "id": "nrm--COx32N8"
      },
      "source": [
        "Stemming is the process of deleting prefixes and suffixes from a word, leaving on the word “stem”. Lemmatization is similar to stemming, but lemmatization is able to capture the underlying meaning of the word."
      ]
    },
    {
      "cell_type": "code",
      "execution_count": null,
      "metadata": {
        "id": "vgS2myqaQHVm"
      },
      "outputs": [],
      "source": [
        "my_sent\n"
      ]
    },
    {
      "cell_type": "code",
      "execution_count": null,
      "metadata": {
        "id": "m0OuFEb50nJV"
      },
      "outputs": [],
      "source": [
        "# Find the index of 'swimming'\n",
        "my_sent.words.index('swimming')\n"
      ]
    },
    {
      "cell_type": "code",
      "execution_count": null,
      "metadata": {
        "id": "KNCVOwBS1AVL"
      },
      "outputs": [],
      "source": [
        "# Stemming\n",
        "print(my_sent.words[3].stem())\n",
        "print(my_sent.words[1].stem())\n"
      ]
    },
    {
      "cell_type": "code",
      "execution_count": null,
      "metadata": {
        "id": "__wDsIBr1CV0"
      },
      "outputs": [],
      "source": [
        "# Lemmatization\n",
        "print(my_sent.words[3].lemmatize())\n",
        "print(my_sent.words[1].lemmatize())\n"
      ]
    },
    {
      "cell_type": "code",
      "execution_count": null,
      "metadata": {
        "id": "bdkxe60scEuz"
      },
      "outputs": [],
      "source": [
        "foo = TextBlob(\"caring\")\n",
        "(\n",
        "foo.words.stem(),\n",
        "foo.words.lemmatize()\n",
        ")\n"
      ]
    },
    {
      "cell_type": "markdown",
      "metadata": {
        "id": "f297wU5F4S1d"
      },
      "source": [
        "## WordNet"
      ]
    },
    {
      "cell_type": "code",
      "execution_count": null,
      "metadata": {
        "id": "TH4QCqh54Uxw"
      },
      "outputs": [],
      "source": [
        "{ my_sent.words[-2] : my_sent.words[-2].definitions }\n"
      ]
    },
    {
      "cell_type": "markdown",
      "metadata": {
        "id": "58YAtxqr4hY6"
      },
      "source": [
        "## Spelling"
      ]
    },
    {
      "cell_type": "code",
      "execution_count": null,
      "metadata": {
        "id": "P5v-pZbz4lzV"
      },
      "outputs": [],
      "source": [
        "my_bad_spelling = TextBlob('Helllo, today is my birfday.')\n",
        "my_bad_spelling.correct()\n"
      ]
    },
    {
      "cell_type": "markdown",
      "metadata": {
        "id": "WszmJKlES9nx"
      },
      "source": [
        "## Counting Words"
      ]
    },
    {
      "cell_type": "code",
      "execution_count": null,
      "metadata": {
        "id": "NALKLPcqdzGg"
      },
      "outputs": [],
      "source": [
        "my_cheer = TextBlob('Data science is the best, data science is the coolest.')\n",
        "my_cheer.words.count('data')\n"
      ]
    },
    {
      "cell_type": "code",
      "execution_count": null,
      "metadata": {
        "id": "08hWM118KUq4"
      },
      "outputs": [],
      "source": [
        "my_cheer.word_counts\n"
      ]
    },
    {
      "cell_type": "markdown",
      "metadata": {
        "id": "y5393kUmQMuf"
      },
      "source": [
        "### Your Turn\n",
        "1. Create a TextBlob called `message` and set it equal to `Good morning, todayy is going to be a fantastic day!`.\n",
        "2. Correct the spelling in your TextBlob and set it equal to a new variable called `message_sp`.\n",
        "3. Find the index of the word `fantastic`.\n",
        "4. Look up the definition of the word `fantastic`.\n",
        "5. Stem and lemmatize the word `fantastic`."
      ]
    },
    {
      "cell_type": "code",
      "execution_count": null,
      "metadata": {
        "id": "ST4w62N1Q1n1"
      },
      "outputs": [],
      "source": [
        "# Solution 1\n"
      ]
    },
    {
      "cell_type": "code",
      "execution_count": null,
      "metadata": {
        "id": "JK1DbMVvRUl7"
      },
      "outputs": [],
      "source": [
        "# Solution 2\n"
      ]
    },
    {
      "cell_type": "code",
      "execution_count": null,
      "metadata": {
        "id": "StsVKIcsRVT2"
      },
      "outputs": [],
      "source": [
        "# Solution 3\n"
      ]
    },
    {
      "cell_type": "code",
      "execution_count": null,
      "metadata": {
        "id": "ATarrwuDRWEY"
      },
      "outputs": [],
      "source": [
        "# Solution 4\n"
      ]
    },
    {
      "cell_type": "code",
      "execution_count": null,
      "metadata": {
        "id": "p0Fr0EBQRW3J"
      },
      "outputs": [],
      "source": [
        "# Solution 5\n"
      ]
    },
    {
      "cell_type": "code",
      "execution_count": null,
      "metadata": {
        "id": "3-OW3gJceMeh"
      },
      "outputs": [],
      "source": []
    },
    {
      "cell_type": "markdown",
      "metadata": {
        "id": "o54S5dj25PkJ"
      },
      "source": [
        "## TextBlobs as Strings\n",
        "TextBlobs act as strings, meaning you can use all of the normal string methods and you can index them as you would a string."
      ]
    },
    {
      "cell_type": "code",
      "execution_count": null,
      "metadata": {
        "id": "WVb-PeQURdfD"
      },
      "outputs": [],
      "source": [
        "my_cheer\n"
      ]
    },
    {
      "cell_type": "code",
      "execution_count": null,
      "metadata": {
        "id": "h3B6q_ZD5YXI"
      },
      "outputs": [],
      "source": [
        "my_cheer[0:6]\n"
      ]
    },
    {
      "cell_type": "code",
      "execution_count": null,
      "metadata": {
        "id": "Z9Rt22yI5akT"
      },
      "outputs": [],
      "source": [
        "my_cheer.upper()\n"
      ]
    },
    {
      "cell_type": "code",
      "execution_count": null,
      "metadata": {
        "id": "B-IuCdaXeiPb"
      },
      "outputs": [],
      "source": [
        "my_cheer.lower()\n"
      ]
    },
    {
      "cell_type": "markdown",
      "metadata": {
        "id": "-CPzjIEuOqIY"
      },
      "source": [
        "## **n**-grams\n",
        "Overlapping lists of words."
      ]
    },
    {
      "cell_type": "code",
      "execution_count": null,
      "metadata": {
        "id": "7l1m5XmvO0RX"
      },
      "outputs": [],
      "source": [
        "my_cheer\n"
      ]
    },
    {
      "cell_type": "code",
      "execution_count": null,
      "metadata": {
        "id": "L6VnouwDO3yE"
      },
      "outputs": [],
      "source": [
        "my_cheer.ngrams(n=3)\n"
      ]
    },
    {
      "cell_type": "code",
      "execution_count": null,
      "metadata": {
        "id": "m23kn3NcPXBg"
      },
      "outputs": [],
      "source": [
        "[ \" \".join(i) for i in my_cheer.ngrams(n=3) ]\n"
      ]
    },
    {
      "cell_type": "code",
      "execution_count": null,
      "metadata": {
        "id": "HuFGF_8xUL73"
      },
      "outputs": [],
      "source": [
        "my_cheer.split(\",\")\n"
      ]
    },
    {
      "cell_type": "code",
      "execution_count": null,
      "metadata": {
        "id": "f9AsivZVf3s5"
      },
      "outputs": [],
      "source": [
        "my_cheer.words\n"
      ]
    },
    {
      "cell_type": "code",
      "execution_count": null,
      "metadata": {
        "id": "VwrvY0MKgYJW"
      },
      "outputs": [],
      "source": []
    }
  ],
  "metadata": {
    "colab": {
      "provenance": [],
      "include_colab_link": true
    },
    "kernelspec": {
      "display_name": "Python 3 (ipykernel)",
      "language": "python",
      "name": "python3"
    },
    "language_info": {
      "codemirror_mode": {
        "name": "ipython",
        "version": 3
      },
      "file_extension": ".py",
      "mimetype": "text/x-python",
      "name": "python",
      "nbconvert_exporter": "python",
      "pygments_lexer": "ipython3",
      "version": "3.10.12"
    }
  },
  "nbformat": 4,
  "nbformat_minor": 0
}